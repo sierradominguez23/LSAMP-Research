{
 "cells": [
  {
   "cell_type": "code",
   "execution_count": 3,
   "metadata": {
    "collapsed": true
   },
   "outputs": [],
   "source": [
    "import os\n",
    "from bs4 import BeautifulSoup\n",
    "from selenium import webdriver\n",
    "from selenium.webdriver.common.by import By\n",
    "from selenium.webdriver.support.ui import WebDriverWait\n",
    "from selenium.webdriver.support import expected_conditions as EC\n",
    "from time import sleep\n",
    "from datetime import datetime\n",
    "import argparse\n",
    "from selenium.webdriver.common.keys import Keys"
   ]
  },
  {
   "cell_type": "code",
   "execution_count": 40,
   "metadata": {
    "collapsed": true
   },
   "outputs": [],
   "source": [
    "def get_historic_cotization(url, start, end, t):\n",
    "    var1 = start\n",
    "    var2 = end\n",
    "    topic = t\n",
    "    driver = webdriver.Chrome(r\"C:\\Users\\Sierra\\Downloads\\chromedriver_win32\\chromedriver.exe\")\n",
    "    driver.get(url)\n",
    "    WebDriverWait(driver, 8)\n",
    "    #.until(EC.visibility_of_element_located((By.XPATH, '//*[@id=\"datePickerIconWrap\"]')))\n",
    "    #popUp.click() #datePickerIconWrap\n",
    "    #driver.find_element_by_class_name('popupCloseIcon').click(), signupWrap js-gen-popup dark-graph\n",
    "    #driver.find_element_by_class_name('noHeader').click()\n",
    "    dates = driver.find_element_by_css_selector('#flatDatePickerCanvasHol > div:nth-child(2)')\n",
    "    dates.click()\n",
    "\n",
    "    # dynamically generate displayed variables\n",
    "    _vars = driver.find_element_by_id('curr_table').find_elements_by_tag_name('th')\n",
    "    variables = [var.text.lower() for var in _vars]\n",
    "    print(variables)\n",
    "\n",
    "    #inputing dates into field\n",
    "    startDate = driver.find_element_by_id('startDate')\n",
    "    startDate.clear()\n",
    "    startDate.send_keys(var1)\n",
    "    \n",
    "    endDate = driver.find_element_by_id('endDate')\n",
    "    endDate.clear()\n",
    "    endDate.send_keys(var2)\n",
    "    \n",
    "    apply_changes = driver.find_element_by_class_name('ui-datepicker-buttonpane').find_element_by_tag_name('a')\n",
    "    apply_changes.click()\n",
    "    \n",
    "    date = driver.find_element_by_css_selector('#curr_table > thead > tr > th.first.left.noWrap.pointer > span')\n",
    "    date.click()\n",
    "\n",
    "    #WebDriverWait(driver, 20)\n",
    "    #.until(EC.element_to_be_clickable((By.CLASS_NAME, 'historicalTbl')))\n",
    "    soup = BeautifulSoup(driver.page_source, \"lxml\")\n",
    "    #table = soup.find('table', {'class': 'genTbl closedTbl historicalTbl'})\n",
    "    table = soup.find(class_='genTbl closedTbl historicalTbl')\n",
    "    rows = table.find_all('td')\n",
    "    counter=0\n",
    "    d = {'Date':'','Price':'','Open':'','High':'','Low':'', 'Vol':'', 'Change':''}\n",
    "    f = csv.writer(open(\"%s\\\\%s-%s-%s.csv\" % (os.getcwd(), var1.replace('/','.'), var2.replace('/','.'), topic), 'w', newline=''))\n",
    "    f.writerow(['Date','Price','Open', 'High', 'Low', 'Vol.', 'Change %'])\n",
    "    for tag in rows:\n",
    "        tag_string = str(tag.string)\n",
    "        if counter == 0:\n",
    "            d['Date'] = tag_string\n",
    "            counter = counter+1\n",
    "            continue\n",
    "        elif counter == 1:\n",
    "            d['Price'] = tag_string\n",
    "            counter = counter+1\n",
    "            continue\n",
    "        elif counter == 2:\n",
    "            d['Open'] = tag_string\n",
    "            counter = counter+1\n",
    "            continue\n",
    "        elif counter == 3:\n",
    "            d['High'] = tag_string\n",
    "            counter = counter+1\n",
    "            continue\n",
    "        elif counter == 4:\n",
    "            d['Low'] = tag_string\n",
    "            counter = counter+1\n",
    "            continue\n",
    "        elif counter == 5:\n",
    "            d['Vol'] = tag_string\n",
    "            counter = counter+1\n",
    "            continue\n",
    "        elif counter == 6:\n",
    "            d['Change'] = tag_string\n",
    "            counter = counter+1\n",
    "            continue\n",
    "        else:\n",
    "            counter=1\n",
    "            f.writerow([d['Date'], d['Price'], d['Open'], d['High'], d['Low'], d['Vol'], d['Change']])\n",
    "            d['Date'] = tag_string\n"
   ]
  },
  {
   "cell_type": "code",
   "execution_count": 41,
   "metadata": {},
   "outputs": [
    {
     "name": "stdout",
     "output_type": "stream",
     "text": [
      "['date', 'price', 'open', 'high', 'low', 'vol.', 'change %']\n",
      "None\n"
     ]
    }
   ],
   "source": [
    "get_historic_cotization(\n",
    "    'https://www.investing.com/indices/us-spx-500-futures-historical-data',\n",
    "    '01/01/2015', \n",
    "    '09/01/2015')"
   ]
  },
  {
   "cell_type": "code",
   "execution_count": null,
   "metadata": {
    "collapsed": true
   },
   "outputs": [],
   "source": []
  }
 ],
 "metadata": {
  "kernelspec": {
   "display_name": "Python 3",
   "language": "python",
   "name": "python3"
  },
  "language_info": {
   "codemirror_mode": {
    "name": "ipython",
    "version": 3
   },
   "file_extension": ".py",
   "mimetype": "text/x-python",
   "name": "python",
   "nbconvert_exporter": "python",
   "pygments_lexer": "ipython3",
   "version": "3.6.3"
  }
 },
 "nbformat": 4,
 "nbformat_minor": 2
}
